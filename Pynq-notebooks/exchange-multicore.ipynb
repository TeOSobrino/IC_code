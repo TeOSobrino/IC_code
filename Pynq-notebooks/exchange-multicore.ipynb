{
 "cells": [
  {
   "cell_type": "markdown",
   "id": "c4776744",
   "metadata": {},
   "source": [
    "## Notebook para Execução da reconfiguração parcial com vários cores\n",
    "\n",
    "### Elaborado por: Téo Sobrino Alves\n",
    "### Feito sob licença GPL 3.0\n",
    "#### Mais detalhes: https://github.com/TeOSobrino/IC_code/tree/main"
   ]
  },
  {
   "cell_type": "code",
   "execution_count": 1,
   "id": "47c6b94a",
   "metadata": {},
   "outputs": [],
   "source": [
    "from pynq.overlays.base import BaseOverlay\n",
    "from pynq import Overlay\n",
    "import time"
   ]
  },
  {
   "cell_type": "code",
   "execution_count": 2,
   "id": "9facc935",
   "metadata": {},
   "outputs": [
    {
     "data": {
      "application/javascript": "\ntry {\nrequire(['notebook/js/codecell'], function(codecell) {\n  codecell.CodeCell.options_default.highlight_modes[\n      'magic_text/x-csrc'] = {'reg':[/^%%microblaze/]};\n  Jupyter.notebook.events.one('kernel_ready.Kernel', function(){\n      Jupyter.notebook.get_cells().map(function(cell){\n          if (cell.cell_type == 'code'){ cell.auto_highlight(); } }) ;\n  });\n});\n} catch (e) {};\n"
     },
     "metadata": {},
     "output_type": "display_data"
    },
    {
     "data": {
      "application/javascript": "\ntry {\nrequire(['notebook/js/codecell'], function(codecell) {\n  codecell.CodeCell.options_default.highlight_modes[\n      'magic_text/x-csrc'] = {'reg':[/^%%pybind11/]};\n  Jupyter.notebook.events.one('kernel_ready.Kernel', function(){\n      Jupyter.notebook.get_cells().map(function(cell){\n          if (cell.cell_type == 'code'){ cell.auto_highlight(); } }) ;\n  });\n});\n} catch (e) {};\n"
     },
     "metadata": {},
     "output_type": "display_data"
    }
   ],
   "source": [
    "# carrega o overlay base da fpga - permite interagir com leds, botões, etc\n",
    "base = BaseOverlay(\"base.bit\")\n",
    "base_path = '/home/xilinx/'\n",
    "current_ol = 'none'"
   ]
  },
  {
   "cell_type": "code",
   "execution_count": null,
   "id": "ac328272-59a7-47d0-9cef-f74781c3766d",
   "metadata": {},
   "outputs": [],
   "source": [
    "# carrega o bitstream base principal do processador\n",
    "def load_main_ol():\n",
    "    ol = Overlay(base_path + 'multicore_pl_xilinx_zcu104.bit ')\n",
    "    return ol"
   ]
  },
  {
   "cell_type": "code",
   "execution_count": null,
   "id": "e3c48423-38b6-48af-b0d9-dcb88f229dcb",
   "metadata": {},
   "outputs": [],
   "source": [
    "# devemos declarar qual região da FPGA foi marcada como reconfigurável com o \n",
    "# nome do bdf parcial usado naquele design, em nosso design temos 3 blocos\n",
    "# no_fpu_extra_core; remove_core_inc_cache; no_fpu_inc_cache;\n",
    "\n",
    "# bloco que retira a FPU e adiciona um core\n",
    "def set_pr_remove_FPU_add_core(current_ol: list, ol:PynqOverlay):\n",
    "    if(ol == None):\n",
    "        ol = load_main_ol()\n",
    "    Overlay.set_partial_region('no_fpu_extra_core')\n",
    "    current_ol = \"no_fpu_extra_core\"\n",
    "\n",
    "# bloco que remove um core e aumenta a cache dos demais\n",
    "def set_pr_remove_core_inc_cache(current_ol: list, ol:PynqOverlay):\n",
    "    if(ol == None):\n",
    "        ol = load_main_ol()\n",
    "    Overlay.set_partial_region('remove_core_inc_cache')\n",
    "    current_ol = \"remove_core_inc_cache\"\n",
    "    return ol, current_ol\n",
    "\n",
    "# bloco que remove a FPU e aumenta a cache dos demais\n",
    "def set_pr_no_fpu_inc_cache(current_ol: list, ol:PynqOverlay):\n",
    "    if(ol == None):\n",
    "        ol = load_main_ol()\n",
    "    Overlay.set_partial_region('no_fpu_inc_cache')\n",
    "    current_ol = \"no_fpu_inc_cache\"\n",
    "    return ol, current_ol\n",
    "\n",
    "#resetamos a arquitetura para a estática inicial\n",
    "def reset_arch(current_ol: list, ol:PynqOverlay):\n",
    "    if(ol == None):\n",
    "        ol = load_main_ol()\n",
    "    current_ol = None\n",
    "    return ol, current_ol\n"
   ]
  },
  {
   "cell_type": "code",
   "execution_count": null,
   "id": "15da6623",
   "metadata": {},
   "outputs": [],
   "source": [
    "# precisamos direcionar o processador para o arquivo RISCV que executaremos (testbench)\n",
    "ol = load_main_ol()\n",
    "path = \"home/Xilinx/teo/tb/asm/drnn\"\n",
    "found = ol.bp_set_program_path(path)\n",
    "if not found:\n",
    "    print(f\"Arquivo não encontrado em (File not found at): {path}\")\n",
    "    exit"
   ]
  },
  {
   "cell_type": "code",
   "execution_count": null,
   "id": "85be0353",
   "metadata": {},
   "outputs": [],
   "source": [
    "def read_triggers(ol: PynqOverlay):\n",
    "    t1 = ol.bp_read_register('cache_rate')\n",
    "    t2 = ol.bp_read_register('FPU_access')\n",
    "    return (t1,t2)"
   ]
  },
  {
   "cell_type": "code",
   "execution_count": null,
   "id": "d6c8ed4d",
   "metadata": {},
   "outputs": [],
   "source": [
    "#lemos a taxa de hit/miss do processador BlackParrot\n",
    "trigger = read_triggers(ol)"
   ]
  },
  {
   "cell_type": "code",
   "execution_count": null,
   "id": "c486cc55",
   "metadata": {},
   "outputs": [],
   "source": [
    "# a depender dos valores atuais das variáveis, fazemos a troca das bitstreams\n",
    "trigger_val = 0.7\n",
    "exchange = 0\n",
    "\n",
    "def load_ol_trigger(program_status:int, ol: PynqOverlay):\n",
    "    while not program_status and not exchange:\n",
    "        if trigger >= trigger_val:\n",
    "            if current_ol != \"mem_inc\":\n",
    "                set_pr_mem_inc()\n",
    "            Overlay.download(base_path + 'xilinx_zcu104_remove_core_extra_cache.bit')\n",
    "        elif trigger <= (1-trigger_val):\n",
    "            if current_ol != \"mem_dec\":\n",
    "                set_pr_mem_inc()\n",
    "            Overlay.download(base_path + 'xilinx_zcu104_reduced_cache_two_fpu.bit')\n",
    "        elif trigger_val == 0.5:\n",
    "            Overlay.download(base_path + 'xilinx_zcu104_remove_core_extra_cache.bit')\n",
    "        # esperamos para realizar a leitura do registrador\n",
    "        \n",
    "        trigger = ol.bp_read_register('cache_rate')\n",
    "\n",
    "        "
   ]
  },
  {
   "cell_type": "code",
   "execution_count": null,
   "id": "07d32f75",
   "metadata": {},
   "outputs": [],
   "source": [
    "program_status = 0\n",
    "ol.bp_begin_assync_execution(program_status)\n",
    "load_ol_trigger(program_status, ol)"
   ]
  }
 ],
 "metadata": {
  "kernelspec": {
   "display_name": "base",
   "language": "python",
   "name": "python3"
  },
  "language_info": {
   "codemirror_mode": {
    "name": "ipython",
    "version": 3
   },
   "file_extension": ".py",
   "mimetype": "text/x-python",
   "name": "python",
   "nbconvert_exporter": "python",
   "pygments_lexer": "ipython3",
   "version": "3.11.8"
  }
 },
 "nbformat": 4,
 "nbformat_minor": 5
}
