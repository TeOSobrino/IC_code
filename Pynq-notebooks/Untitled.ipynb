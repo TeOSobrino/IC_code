{
 "cells": [
  {
   "cell_type": "code",
   "execution_count": 1,
   "id": "47c6b94a",
   "metadata": {},
   "outputs": [],
   "source": [
    "from pynq.overlays.base import BaseOverlay\n",
    "from pynq import Overlay"
   ]
  },
  {
   "cell_type": "code",
   "execution_count": 2,
   "id": "9facc935",
   "metadata": {},
   "outputs": [
    {
     "data": {
      "application/javascript": "\ntry {\nrequire(['notebook/js/codecell'], function(codecell) {\n  codecell.CodeCell.options_default.highlight_modes[\n      'magic_text/x-csrc'] = {'reg':[/^%%microblaze/]};\n  Jupyter.notebook.events.one('kernel_ready.Kernel', function(){\n      Jupyter.notebook.get_cells().map(function(cell){\n          if (cell.cell_type == 'code'){ cell.auto_highlight(); } }) ;\n  });\n});\n} catch (e) {};\n"
     },
     "metadata": {},
     "output_type": "display_data"
    },
    {
     "data": {
      "application/javascript": "\ntry {\nrequire(['notebook/js/codecell'], function(codecell) {\n  codecell.CodeCell.options_default.highlight_modes[\n      'magic_text/x-csrc'] = {'reg':[/^%%pybind11/]};\n  Jupyter.notebook.events.one('kernel_ready.Kernel', function(){\n      Jupyter.notebook.get_cells().map(function(cell){\n          if (cell.cell_type == 'code'){ cell.auto_highlight(); } }) ;\n  });\n});\n} catch (e) {};\n"
     },
     "metadata": {},
     "output_type": "display_data"
    }
   ],
   "source": [
    "# carrega o overlay base da fpga - permite interagir com leds, botões, etc\n",
    "base = BaseOverlay(\"base.bit\")\n",
    "base_path = '/home/xilinx/'"
   ]
  },
  {
   "cell_type": "code",
   "execution_count": null,
   "id": "ac328272-59a7-47d0-9cef-f74781c3766d",
   "metadata": {},
   "outputs": [],
   "source": [
    "# carrega o bitstream base principal do processador\n",
    "def load_main_ol():\n",
    "    ol = Overlay(base_path + 'black_parrot_zcu104_main.bit')"
   ]
  },
  {
   "cell_type": "code",
   "execution_count": null,
   "id": "e3c48423-38b6-48af-b0d9-dcb88f229dcb",
   "metadata": {},
   "outputs": [],
   "source": [
    "# devemos declarar qual região da FPGA foi marcada como reconfigurável \n",
    "def set_pr():\n",
    "    Overlay.set_partial_region('block_0')\n",
    "\n",
    "# agora podemos fazer o upload dos bitstreams parciais\n",
    "def load_par_ol():\n",
    "    load_main_ol()\n",
    "    Overlay.download(base_path + 'black_parrot_zcu104_no_cache_partial.bit')"
   ]
  },
  {
   "cell_type": "code",
   "execution_count": null,
   "id": "c486cc55",
   "metadata": {},
   "outputs": [],
   "source": [
    "# podemos designar um botão para realizar a troca dos bitstream:\n",
    "def load_ol_buttons():\n",
    "    while True:\n",
    "        if base.buttons[0].read() == 1:\n",
    "            Overlay.download(base_path + 'black_parrot_zcu104_no_cache_partial.bit')\n",
    "        \n",
    "        elif base.buttons[1].read() == 1:\n",
    "            Overlay.download(base_path + 'black_parrot_zcu104_reduced_cache_partial.bit')\n",
    "\n",
    "        elif base.buttons[2].read() == 1:\n",
    "            Overlay.download(base_path + 'black_parrot_zcu104_no_FPU_partial.bit')\n",
    "\n",
    "        elif base.buttons[3].read() == 1:\n",
    "            Overlay.download(base_path + 'black_parrot_zcu104_no_cache_two_FPU_partial.bit')"
   ]
  }
 ],
 "metadata": {
  "kernelspec": {
   "display_name": "Python 3 (ipykernel)",
   "language": "python",
   "name": "python3"
  },
  "language_info": {
   "codemirror_mode": {
    "name": "ipython",
    "version": 3
   },
   "file_extension": ".py",
   "mimetype": "text/x-python",
   "name": "python",
   "nbconvert_exporter": "python",
   "pygments_lexer": "ipython3",
   "version": "3.10.4"
  }
 },
 "nbformat": 4,
 "nbformat_minor": 5
}
