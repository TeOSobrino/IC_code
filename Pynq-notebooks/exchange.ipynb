{
 "cells": [
  {
   "cell_type": "code",
   "execution_count": 1,
   "id": "47c6b94a",
   "metadata": {},
   "outputs": [],
   "source": [
    "from pynq.overlays.base import BaseOverlay\n",
    "from pynq import Overlay\n",
    "import time"
   ]
  },
  {
   "cell_type": "code",
   "execution_count": 2,
   "id": "9facc935",
   "metadata": {},
   "outputs": [
    {
     "data": {
      "application/javascript": "\ntry {\nrequire(['notebook/js/codecell'], function(codecell) {\n  codecell.CodeCell.options_default.highlight_modes[\n      'magic_text/x-csrc'] = {'reg':[/^%%microblaze/]};\n  Jupyter.notebook.events.one('kernel_ready.Kernel', function(){\n      Jupyter.notebook.get_cells().map(function(cell){\n          if (cell.cell_type == 'code'){ cell.auto_highlight(); } }) ;\n  });\n});\n} catch (e) {};\n"
     },
     "metadata": {},
     "output_type": "display_data"
    },
    {
     "data": {
      "application/javascript": "\ntry {\nrequire(['notebook/js/codecell'], function(codecell) {\n  codecell.CodeCell.options_default.highlight_modes[\n      'magic_text/x-csrc'] = {'reg':[/^%%pybind11/]};\n  Jupyter.notebook.events.one('kernel_ready.Kernel', function(){\n      Jupyter.notebook.get_cells().map(function(cell){\n          if (cell.cell_type == 'code'){ cell.auto_highlight(); } }) ;\n  });\n});\n} catch (e) {};\n"
     },
     "metadata": {},
     "output_type": "display_data"
    }
   ],
   "source": [
    "# carrega o overlay base da fpga - permite interagir com leds, botões, etc\n",
    "base = BaseOverlay(\"base.bit\")\n",
    "base_path = '/home/xilinx/'\n",
    "current_ol = 'none'"
   ]
  },
  {
   "cell_type": "code",
   "execution_count": 2,
   "id": "ac328272-59a7-47d0-9cef-f74781c3766d",
   "metadata": {},
   "outputs": [],
   "source": [
    "# carrega o bitstream base principal do processador\n",
    "def load_main_ol():\n",
    "    ol = Overlay(base_path + 'black_parrot_zcu104_main.bit')"
   ]
  },
  {
   "cell_type": "code",
   "execution_count": 1,
   "id": "e3c48423-38b6-48af-b0d9-dcb88f229dcb",
   "metadata": {},
   "outputs": [],
   "source": [
    "# devemos declarar qual região da FPGA foi marcada como reconfigurável com o \n",
    "# nome do bdf parcial usado naquele design, em nosso design temos 3 blocos\n",
    "\n",
    "# bloco que reconfigura apenas a memória\n",
    "def set_pr_mem():\n",
    "    load_main_ol()\n",
    "    Overlay.set_partial_region('block_mem')\n",
    "    current_ol = \"mem\"\n",
    "\n",
    "# bloco que reconfigura apenas a FPU\n",
    "def set_pr_FPU():\n",
    "    load_main_ol()\n",
    "    Overlay.set_partial_region('block_FPU')\n",
    "    current_ol = \"FPU\"\n",
    "\n",
    "# bloco que reconfigura a memória e a FPU\n",
    "def set_pr_both():\n",
    "    load_main_ol()\n",
    "    Overlay.set_partial_region('block_mem_and_FPU')\n",
    "    current_ol = \"both\""
   ]
  },
  {
   "cell_type": "code",
   "execution_count": null,
   "id": "d6c8ed4d",
   "metadata": {},
   "outputs": [],
   "source": [
    "#lemos a taxa de hit/miss do processador BlackParrot\n",
    "trigger = ol.read_register('cache_rate')"
   ]
  },
  {
   "cell_type": "code",
   "execution_count": null,
   "id": "c486cc55",
   "metadata": {},
   "outputs": [],
   "source": [
    "# podemos designar um botão para realizar a troca dos bitstream:\n",
    "def load_ol_buttons():\n",
    "    while True:\n",
    "        if trigger >= 0.7:\n",
    "            if current_ol != \"mem\":\n",
    "                set_pr_mem()\n",
    "            Overlay.download(base_path + 'black_parrot_zcu104_reduced_cache.bit')\n",
    "            break\n",
    "        \n",
    "        time.sleep(0.5)\n",
    "        trigger = ol.read_register('cache_rate')\n",
    "        "
   ]
  }
 ],
 "metadata": {
  "kernelspec": {
   "display_name": "Python 3 (ipykernel)",
   "language": "python",
   "name": "python3"
  },
  "language_info": {
   "codemirror_mode": {
    "name": "ipython",
    "version": 3
   },
   "file_extension": ".py",
   "mimetype": "text/x-python",
   "name": "python",
   "nbconvert_exporter": "python",
   "pygments_lexer": "ipython3",
   "version": "3.11.8"
  }
 },
 "nbformat": 4,
 "nbformat_minor": 5
}
