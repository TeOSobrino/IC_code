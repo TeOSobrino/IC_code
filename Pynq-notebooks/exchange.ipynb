{
 "cells": [
  {
   "cell_type": "markdown",
   "id": "c4776744",
   "metadata": {},
   "source": [
    "## Notebook para Execução da reconfiguração parcial com 1 core\n",
    "\n",
    "### Elaborado por: Téo Sobrino Alves\n",
    "### Feito sob licença GPL 3.0\n",
    "#### Mais detalhes: https://github.com/TeOSobrino/IC_code/tree/main"
   ]
  },
  {
   "cell_type": "code",
   "execution_count": 1,
   "id": "47c6b94a",
   "metadata": {},
   "outputs": [],
   "source": [
    "from pynq.overlays.base import BaseOverlay\n",
    "from pynq import Overlay\n",
    "import time"
   ]
  },
  {
   "cell_type": "code",
   "execution_count": 2,
   "id": "9facc935",
   "metadata": {},
   "outputs": [
    {
     "data": {
      "application/javascript": "\ntry {\nrequire(['notebook/js/codecell'], function(codecell) {\n  codecell.CodeCell.options_default.highlight_modes[\n      'magic_text/x-csrc'] = {'reg':[/^%%microblaze/]};\n  Jupyter.notebook.events.one('kernel_ready.Kernel', function(){\n      Jupyter.notebook.get_cells().map(function(cell){\n          if (cell.cell_type == 'code'){ cell.auto_highlight(); } }) ;\n  });\n});\n} catch (e) {};\n"
     },
     "metadata": {},
     "output_type": "display_data"
    },
    {
     "data": {
      "application/javascript": "\ntry {\nrequire(['notebook/js/codecell'], function(codecell) {\n  codecell.CodeCell.options_default.highlight_modes[\n      'magic_text/x-csrc'] = {'reg':[/^%%pybind11/]};\n  Jupyter.notebook.events.one('kernel_ready.Kernel', function(){\n      Jupyter.notebook.get_cells().map(function(cell){\n          if (cell.cell_type == 'code'){ cell.auto_highlight(); } }) ;\n  });\n});\n} catch (e) {};\n"
     },
     "metadata": {},
     "output_type": "display_data"
    }
   ],
   "source": [
    "# carrega o overlay base da fpga - permite interagir com leds, botões, etc\n",
    "base = BaseOverlay(\"base.bit\")\n",
    "base_path = '/home/xilinx/'\n",
    "current_ol = 'none'"
   ]
  },
  {
   "cell_type": "code",
   "execution_count": 2,
   "id": "ac328272-59a7-47d0-9cef-f74781c3766d",
   "metadata": {},
   "outputs": [],
   "source": [
    "# carrega o bitstream base principal do processador\n",
    "def load_main_ol():\n",
    "    ol = Overlay(base_path + 'xilinx_zcu104_main.bit')"
   ]
  },
  {
   "cell_type": "code",
   "execution_count": 1,
   "id": "e3c48423-38b6-48af-b0d9-dcb88f229dcb",
   "metadata": {},
   "outputs": [],
   "source": [
    "# devemos declarar qual região da FPGA foi marcada como reconfigurável com o \n",
    "# nome do bdf parcial usado naquele design, em nosso design temos 3 blocos\n",
    "\n",
    "# bloco que reconfigura apenas a memória, aumentando a cache\n",
    "def set_pr_mem_inc():\n",
    "    load_main_ol()\n",
    "    Overlay.set_partial_region('block_mem')\n",
    "    current_ol = \"mem_inc\"\n",
    "\n",
    "# bloco que reconfigura apenas a memória, diminuindo a cache\n",
    "def set_pr_mem_inc():\n",
    "    load_main_ol()\n",
    "    Overlay.set_partial_region('block_mem')\n",
    "    current_ol = \"mem_dec\"\n",
    "\n",
    "#resetamos a arquitetura para a estática inicial\n",
    "def reset_arch():\n",
    "    load_main_ol()\n",
    "    current_ol = None\n"
   ]
  },
  {
   "cell_type": "code",
   "execution_count": null,
   "id": "15da6623",
   "metadata": {},
   "outputs": [],
   "source": [
    "# precisamos direcionar o processador para o arquivo RISCV que executaremos (testbench)\n",
    "path = \"home/Xilinx/teo/tb/asm/drnn\"\n",
    "found = ol.bp_set_program_path(path)\n",
    "if not found:\n",
    "    print(f\"Arquivo não encontrado em (File not found at): {path}\")\n",
    "    exit"
   ]
  },
  {
   "cell_type": "code",
   "execution_count": null,
   "id": "d6c8ed4d",
   "metadata": {},
   "outputs": [],
   "source": [
    "#lemos a taxa de hit/miss do processador BlackParrot\n",
    "trigger = ol.bp_read_register('cache_rate')"
   ]
  },
  {
   "cell_type": "code",
   "execution_count": null,
   "id": "c486cc55",
   "metadata": {},
   "outputs": [],
   "source": [
    "# podemos designar um botão para realizar a troca dos bitstream:\n",
    "trigger_val = 0.7\n",
    "def load_ol_trigger(program_status):\n",
    "    while program_status:\n",
    "        if trigger >= trigger_val:\n",
    "            if current_ol != \"mem_inc\":\n",
    "                set_pr_mem_inc()\n",
    "            Overlay.download(base_path + 'black_parrot_zcu104_increased_cache.bit')\n",
    "        elif trigger <= (1-trigger_val):\n",
    "            if current_ol != \"mem_dec\":\n",
    "                set_pr_mem_inc()\n",
    "            Overlay.download(base_path + 'black_parrot_zcu104_reduced_cache.bit')\n",
    "        # esperamos para realizar a leitura do registrador\n",
    "        time.sleep(0.005)\n",
    "        trigger = ol.bp_read_register('cache_rate')\n",
    "\n",
    "        "
   ]
  },
  {
   "cell_type": "code",
   "execution_count": null,
   "id": "d50ec2eb",
   "metadata": {},
   "outputs": [],
   "source": [
    "# o programa inicia sua execução\n",
    "program_status = 0\n",
    "ol.bp_begin_execution(program_status)\n",
    "\n",
    "# carregamos o overlay\n",
    "load_ol_trigger(program_status)"
   ]
  }
 ],
 "metadata": {
  "kernelspec": {
   "display_name": "base",
   "language": "python",
   "name": "python3"
  },
  "language_info": {
   "codemirror_mode": {
    "name": "ipython",
    "version": 3
   },
   "file_extension": ".py",
   "mimetype": "text/x-python",
   "name": "python",
   "nbconvert_exporter": "python",
   "pygments_lexer": "ipython3",
   "version": "3.11.8"
  }
 },
 "nbformat": 4,
 "nbformat_minor": 5
}
